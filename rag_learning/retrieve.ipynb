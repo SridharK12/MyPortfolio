{
 "cells": [
  {
   "cell_type": "code",
   "execution_count": 20,
   "id": "a1174795",
   "metadata": {},
   "outputs": [],
   "source": [
    "import os\n",
    "from langchain_openai import OpenAIEmbeddings\n",
    "from langchain_chroma import Chroma\n",
    "import pandas as pd\n",
    "import pandas as pd\n",
    "import chromadb\n",
    "\n",
    "chunks_df=pd.read_csv('I:\\\\Sridhar\\\\rag_learning\\\\chunked_docs.csv')\n",
    "embeddings = OpenAIEmbeddings(model=\"text-embedding-3-small\")"
   ]
  },
  {
   "cell_type": "code",
   "execution_count": 21,
   "id": "bcb07dba",
   "metadata": {},
   "outputs": [],
   "source": [
    "#query='Explain benefits of artificial intelligence'\n",
    "vectorstore = Chroma(\n",
    "    collection_name=\"Europa_Commission\",               # 👈 collection name\n",
    "    embedding_function=embeddings,\n",
    "    persist_directory=\"./chroma_langchain_db/Europa_Commission\"  # 👈 path to that collection\n",
    ")\n",
    "\n",
    "# Step 3: Perform semantic search\n",
    "results = vectorstore.similarity_search('Explain benefits of artificial intelligence', k=3)"
   ]
  },
  {
   "cell_type": "code",
   "execution_count": 22,
   "id": "2d7c9fd6",
   "metadata": {},
   "outputs": [
    {
     "name": "stdout",
     "output_type": "stream",
     "text": [
      "\n",
      "📄 Result 1\n",
      "Source: Europa_Commission\n",
      "Content: Why do we need to regulate the use of Artificial Intelligence?\n",
      "The potential benefits of Artificial Intelligence (AI) for our societies are manifold from improved medical care to better education. Faced with the rapid technological development of AI, the EU decided to act as one to harness these opportunities.\n",
      "\n",
      "The EU AI Act is the world's first comprehensive AI law. It aims to address risks to health, safety and fundamental rights. The regulation also protects democracy, rule of law and the environment.\n",
      "\n",
      "While most AI systems will pose low to no risk, certain AI systems create risks that need to be addressed to avoid undesirable outcomes.\n",
      "\n",
      "For example, the opacity of many algorithms may create uncertainty and hamper the effective enforcement of the existing legislation on safety and fundamental rights. Responding to these challenges, legislative action was needed to ensure a well-functioning internal market for AI systems where both benefits and risks are adequately addressed.\n",
      "\n",
      "📄 Result 2\n",
      "Source: Europa_Commission\n",
      "Content: This includes applications such as biometric identification systems or AI decisions touching on important personal interests, such as in the areas of recruitment, education, healthcare, or law enforcement.\n",
      "\n",
      "Recent advancements in AI gave rise to ever more powerful Generative AI. So-called “general-purpose AI models” that are being integrated in numerous AI systems are becoming too important for the economy and society not to be regulated. In light of potential systemic risks, the EU puts in place effective rules and oversight.\n",
      "\n",
      "Which risks will the new AI rules address?\n",
      "The uptake of AI systems has a strong potential to bring societal benefits, economic growth and enhance EU innovation and global competitiveness. However, in certain cases, the specific characteristics of certain AI systems may create new risks related to user safety and fundamental rights. Some powerful AI models that are being widely used could even pose systemic risks.\n",
      "\n",
      "📄 Result 3\n",
      "Source: Europa_Commission\n",
      "Content: The AI Act further enables the creation of regulatory sandboxes and real world testing, which provide a controlled environment to test innovative technologies for a limited time, thereby fostering innovation by companies, SMEs and start-ups in compliance with the AI Act. These, together with other measures such as the additional Networks of AI Excellence Centres and the Public-Private Partnership on Artificial Intelligence, Data and Robotics, and access to Digital Innovation Hubs and Testing and Experimentation Facilities will help build the right framework conditions for companies to develop and deploy AI.\n"
     ]
    }
   ],
   "source": [
    "for i, doc in enumerate(results, start=1):\n",
    "    print(f\"\\n📄 Result {i}\")\n",
    "    print(\"Source:\", doc.metadata.get(\"source\"))\n",
    "    print(\"Content:\", doc.page_content)"
   ]
  },
  {
   "cell_type": "code",
   "execution_count": 23,
   "id": "a1891a7a",
   "metadata": {},
   "outputs": [
    {
     "data": {
      "text/plain": [
       "list"
      ]
     },
     "execution_count": 23,
     "metadata": {},
     "output_type": "execute_result"
    }
   ],
   "source": [
    "type(results)"
   ]
  },
  {
   "cell_type": "code",
   "execution_count": 24,
   "id": "a407698f",
   "metadata": {},
   "outputs": [],
   "source": [
    "from langchain.chat_models import init_chat_model\n",
    "model = init_chat_model(\"gpt-4o\", model_provider=\"openai\")"
   ]
  },
  {
   "cell_type": "code",
   "execution_count": 35,
   "id": "85cba919",
   "metadata": {},
   "outputs": [
    {
     "name": "stdout",
     "output_type": "stream",
     "text": [
      "System: You are a helpful assistant that answers questions based on the given context.\n",
      "Human: Context:\n",
      "Why do we need to regulate the use of Artificial Intelligence?\n",
      "The potential benefits of Artificial Intelligence (AI) for our societies are manifold from improved medical care to better education. Faced with the rapid technological development of AI, the EU decided to act as one to harness these opportunities.\n",
      "\n",
      "The EU AI Act is the world's first comprehensive AI law. It aims to address risks to health, safety and fundamental rights. The regulation also protects democracy, rule of law and the environment.\n",
      "\n",
      "While most AI systems will pose low to no risk, certain AI systems create risks that need to be addressed to avoid undesirable outcomes.\n",
      "\n",
      "For example, the opacity of many algorithms may create uncertainty and hamper the effective enforcement of the existing legislation on safety and fundamental rights. Responding to these challenges, legislative action was needed to ensure a well-functioning internal market for AI systems where both benefits and risks are adequately addressed.\n",
      "This includes applications such as biometric identification systems or AI decisions touching on important personal interests, such as in the areas of recruitment, education, healthcare, or law enforcement.\n",
      "\n",
      "Recent advancements in AI gave rise to ever more powerful Generative AI. So-called “general-purpose AI models” that are being integrated in numerous AI systems are becoming too important for the economy and society not to be regulated. In light of potential systemic risks, the EU puts in place effective rules and oversight.\n",
      "\n",
      "Which risks will the new AI rules address?\n",
      "The uptake of AI systems has a strong potential to bring societal benefits, economic growth and enhance EU innovation and global competitiveness. However, in certain cases, the specific characteristics of certain AI systems may create new risks related to user safety and fundamental rights. Some powerful AI models that are being widely used could even pose systemic risks.\n",
      "The AI Act further enables the creation of regulatory sandboxes and real world testing, which provide a controlled environment to test innovative technologies for a limited time, thereby fostering innovation by companies, SMEs and start-ups in compliance with the AI Act. These, together with other measures such as the additional Networks of AI Excellence Centres and the Public-Private Partnership on Artificial Intelligence, Data and Robotics, and access to Digital Innovation Hubs and Testing and Experimentation Facilities will help build the right framework conditions for companies to develop and deploy AI.\n",
      "\n",
      "Question:\n",
      "What are the benefits of artificial intelligence?\n"
     ]
    }
   ],
   "source": [
    "\n",
    "from langchain_core.prompts import ChatPromptTemplate\n",
    "\n",
    "# Suppose you have some retrieved context (from a vector store, for example)\n",
    "context = results\n",
    "question = \"What are the benefits of artificial intelligence?\"\n",
    "\n",
    "# Define a chat-style prompt template\n",
    "template = ChatPromptTemplate.from_messages([\n",
    "    (\"system\", \"You are a helpful assistant that answers questions based on the given context.\"),\n",
    "    (\"user\", \"Context:\\n{context}\\n\\nQuestion:\\n{question}\")\n",
    "])\n",
    "\n",
    "# Format the prompt with actual values\n",
    "prompt = template.format(context=context, question=question)\n",
    "\n",
    "print(prompt)\n"
   ]
  },
  {
   "cell_type": "code",
   "execution_count": 36,
   "id": "04bb6fe4",
   "metadata": {},
   "outputs": [],
   "source": [
    "from langchain.chat_models import init_chat_model\n",
    "model = init_chat_model(\"gpt-4o\", model_provider=\"openai\")"
   ]
  },
  {
   "cell_type": "code",
   "execution_count": 37,
   "id": "a85ba035",
   "metadata": {},
   "outputs": [
    {
     "name": "stdout",
     "output_type": "stream",
     "text": [
      "Artificial Intelligence (AI) offers numerous benefits to societies, as highlighted in the given context. These benefits include:\n",
      "\n",
      "1. **Improved Medical Care**: AI can enhance healthcare by improving diagnosis accuracy, developing personalized treatment plans, and assisting in patient monitoring and care management.\n",
      "\n",
      "2. **Better Education**: AI can aid in personalized learning by adapting educational content to meet individual student needs, offering accessible educational resources, and providing tools that enhance the teaching and learning experience.\n",
      "\n",
      "3. **Economic Growth**: The adoption of AI technologies can drive economic growth by increasing productivity, creating new markets and industries, and enhancing innovation and competitiveness on a global scale.\n",
      "\n",
      "4. **Innovation and Global Competitiveness**: AI can foster innovation, enabling countries like those in the EU to improve their standing in the global technology landscape and develop cutting-edge solutions in various sectors.\n",
      "\n",
      "Overall, while AI presents significant opportunities for societal advancement and economic benefits, it also necessitates regulation to manage associated risks effectively.\n"
     ]
    }
   ],
   "source": [
    "response = model.invoke(prompt)\n",
    "print(response.content)\n"
   ]
  },
  {
   "cell_type": "code",
   "execution_count": 32,
   "id": "77f94262",
   "metadata": {},
   "outputs": [],
   "source": [
    "from typing import Any\n",
    "def retrieve_from_collection(collection_name : str, embedding_function : Any, persist_directory: str,query:str) ->str:\n",
    "    vectorstore = Chroma(\n",
    "    collection_name=collection_name,               # 👈 collection name\n",
    "    embedding_function=embedding_function,\n",
    "    persist_directory=persist_directory  # 👈 path to that collection\n",
    "    )\n",
    "\n",
    "    results = vectorstore.similarity_search(query, k=3)\n",
    "    \n",
    "    concatenated_text = \"\\n\".join([doc.page_content for doc in results])\n",
    "    return concatenated_text\n",
    "    \n",
    "    "
   ]
  },
  {
   "cell_type": "code",
   "execution_count": 33,
   "id": "1759e3d1",
   "metadata": {},
   "outputs": [],
   "source": [
    "collection_name=\"Europa_Commission\"    \n",
    "persist_directory=\"./chroma_langchain_db/Europa_Commission\" \n",
    "embedding_function=OpenAIEmbeddings(model=\"text-embedding-3-small\")\n",
    "query=\"Explain benefits of artificial intelligence\"\n",
    "results = retrieve_from_collection(collection_name, embedding_function, persist_directory,query)"
   ]
  },
  {
   "cell_type": "code",
   "execution_count": 34,
   "id": "7bef0a97",
   "metadata": {},
   "outputs": [
    {
     "name": "stdout",
     "output_type": "stream",
     "text": [
      "Why do we need to regulate the use of Artificial Intelligence?\n",
      "The potential benefits of Artificial Intelligence (AI) for our societies are manifold from improved medical care to better education. Faced with the rapid technological development of AI, the EU decided to act as one to harness these opportunities.\n",
      "\n",
      "The EU AI Act is the world's first comprehensive AI law. It aims to address risks to health, safety and fundamental rights. The regulation also protects democracy, rule of law and the environment.\n",
      "\n",
      "While most AI systems will pose low to no risk, certain AI systems create risks that need to be addressed to avoid undesirable outcomes.\n",
      "\n",
      "For example, the opacity of many algorithms may create uncertainty and hamper the effective enforcement of the existing legislation on safety and fundamental rights. Responding to these challenges, legislative action was needed to ensure a well-functioning internal market for AI systems where both benefits and risks are adequately addressed.\n",
      "This includes applications such as biometric identification systems or AI decisions touching on important personal interests, such as in the areas of recruitment, education, healthcare, or law enforcement.\n",
      "\n",
      "Recent advancements in AI gave rise to ever more powerful Generative AI. So-called “general-purpose AI models” that are being integrated in numerous AI systems are becoming too important for the economy and society not to be regulated. In light of potential systemic risks, the EU puts in place effective rules and oversight.\n",
      "\n",
      "Which risks will the new AI rules address?\n",
      "The uptake of AI systems has a strong potential to bring societal benefits, economic growth and enhance EU innovation and global competitiveness. However, in certain cases, the specific characteristics of certain AI systems may create new risks related to user safety and fundamental rights. Some powerful AI models that are being widely used could even pose systemic risks.\n",
      "The AI Act further enables the creation of regulatory sandboxes and real world testing, which provide a controlled environment to test innovative technologies for a limited time, thereby fostering innovation by companies, SMEs and start-ups in compliance with the AI Act. These, together with other measures such as the additional Networks of AI Excellence Centres and the Public-Private Partnership on Artificial Intelligence, Data and Robotics, and access to Digital Innovation Hubs and Testing and Experimentation Facilities will help build the right framework conditions for companies to develop and deploy AI.\n"
     ]
    }
   ],
   "source": [
    "print(results)"
   ]
  }
 ],
 "metadata": {
  "kernelspec": {
   "display_name": "Kaggle",
   "language": "python",
   "name": "kagglenv"
  },
  "language_info": {
   "codemirror_mode": {
    "name": "ipython",
    "version": 3
   },
   "file_extension": ".py",
   "mimetype": "text/x-python",
   "name": "python",
   "nbconvert_exporter": "python",
   "pygments_lexer": "ipython3",
   "version": "3.11.5"
  }
 },
 "nbformat": 4,
 "nbformat_minor": 5
}
